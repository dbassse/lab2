{
 "cells": [
  {
   "cell_type": "markdown",
   "id": "15ad6575-a767-4a8c-8fab-448be9bc5cf9",
   "metadata": {},
   "source": [
    "##**Задание 1**. <br>Создание и изменение массивов"
   ]
  },
  {
   "cell_type": "code",
   "execution_count": 6,
   "id": "f3653011-aed5-4820-9a2e-07b19c4a4764",
   "metadata": {},
   "outputs": [],
   "source": [
    "import numpy as np"
   ]
  },
  {
   "cell_type": "code",
   "execution_count": 3,
   "id": "cdd8a9d8-7e91-433a-bf89-9a258dbb98c7",
   "metadata": {},
   "outputs": [
    {
     "name": "stdout",
     "output_type": "stream",
     "text": [
      "[[1 2 3]\n",
      " [4 5 6]\n",
      " [7 8 9]]\n"
     ]
    }
   ],
   "source": [
    "arr = np.array([[1, 2, 3], [4, 5, 6], [7, 8, 9]])\n",
    "print(arr)"
   ]
  },
  {
   "cell_type": "code",
   "execution_count": 4,
   "id": "6e45d6cb-0486-45fe-9ef6-44390908cef1",
   "metadata": {},
   "outputs": [
    {
     "data": {
      "text/plain": [
       "array([[ 2,  4,  6],\n",
       "       [ 8, 10, 12],\n",
       "       [14, 16, 18]])"
      ]
     },
     "execution_count": 4,
     "metadata": {},
     "output_type": "execute_result"
    }
   ],
   "source": [
    "arr=arr*2\n",
    "arr"
   ]
  },
  {
   "cell_type": "code",
   "execution_count": 5,
   "id": "98f5d574-3026-48fd-b9e8-9ca487aaaa7e",
   "metadata": {},
   "outputs": [
    {
     "data": {
      "text/plain": [
       "array([[ 2,  4,  6],\n",
       "       [ 8, 10,  0],\n",
       "       [ 0,  0,  0]])"
      ]
     },
     "execution_count": 5,
     "metadata": {},
     "output_type": "execute_result"
    }
   ],
   "source": [
    "arr[arr>10]=0\n",
    "arr"
   ]
  },
  {
   "cell_type": "markdown",
   "id": "9e3fd227-5077-4425-bd77-43c0a4847e38",
   "metadata": {},
   "source": [
    "##**Задание 2**. <br>Работа с булевыми масками"
   ]
  },
  {
   "cell_type": "code",
   "execution_count": 7,
   "id": "fe82891f-1e44-4c54-bc71-a9da7dd7c4a3",
   "metadata": {},
   "outputs": [
    {
     "name": "stdout",
     "output_type": "stream",
     "text": [
      "[66 13 99 88 90 45 34 92 16 68 36 83 66 86 88 18 43 98 42 41]\n"
     ]
    }
   ],
   "source": [
    "arr=np.random.randint(1,101,size=20)\n",
    "print(arr)"
   ]
  },
  {
   "cell_type": "code",
   "execution_count": 8,
   "id": "77c434e2-d839-4500-9cf5-21475c1afd4d",
   "metadata": {},
   "outputs": [
    {
     "name": "stdout",
     "output_type": "stream",
     "text": [
      "[90 45]\n"
     ]
    }
   ],
   "source": [
    "print(arr[arr%5==0])"
   ]
  },
  {
   "cell_type": "code",
   "execution_count": 9,
   "id": "2ec0136e-4882-4da3-90bf-16da60ac25a7",
   "metadata": {},
   "outputs": [
    {
     "name": "stdout",
     "output_type": "stream",
     "text": [
      "[66 13 99 88 -1 -1 34 92 16 68 36 83 66 86 88 18 43 98 42 41]\n"
     ]
    }
   ],
   "source": [
    "arr[arr%5==0]=-1\n",
    "print(arr)"
   ]
  },
  {
   "cell_type": "markdown",
   "id": "47cd1e88-5722-4ad6-9e98-4e116bc56f1e",
   "metadata": {},
   "source": [
    "##**Задание 3**. <br>Объединение и разбиение массивов"
   ]
  },
  {
   "cell_type": "code",
   "execution_count": 10,
   "id": "9168011a-38e2-461d-8d62-2ce08799ae09",
   "metadata": {},
   "outputs": [
    {
     "name": "stdout",
     "output_type": "stream",
     "text": [
      "[[17  8 11 37 36]] \n",
      "\n",
      "[[40 42 42 39 24]]\n"
     ]
    }
   ],
   "source": [
    "a=np.random.randint(1,50,size=(1,5))\n",
    "b=np.random.randint(1,50,size=(1,5))\n",
    "print(a,'\\n')\n",
    "print(b)"
   ]
  },
  {
   "cell_type": "code",
   "execution_count": 11,
   "id": "3129dfe6-8ca1-41e5-a9fe-3058df5151e3",
   "metadata": {},
   "outputs": [
    {
     "name": "stdout",
     "output_type": "stream",
     "text": [
      "[[17  8 11 37 36]\n",
      " [40 42 42 39 24]]\n"
     ]
    }
   ],
   "source": [
    "c=np.concatenate((a,b),axis=0)\n",
    "print(c)"
   ]
  },
  {
   "cell_type": "code",
   "execution_count": 12,
   "id": "de6dfd24-c80b-49a3-a1d1-9a8574375bcc",
   "metadata": {},
   "outputs": [
    {
     "data": {
      "text/plain": [
       "[(array([17,  8, 11, 37, 36]),), (array([40, 42, 42, 39, 24]),)]"
      ]
     },
     "execution_count": 12,
     "metadata": {},
     "output_type": "execute_result"
    }
   ],
   "source": [
    "list(zip((c)))"
   ]
  },
  {
   "cell_type": "markdown",
   "id": "4404836c-bf34-47f1-a764-0ccc169431f6",
   "metadata": {},
   "source": [
    "##**Задание 4**. <br>Генерация и работа с линейными последовательностями"
   ]
  },
  {
   "cell_type": "code",
   "execution_count": 13,
   "id": "ed2ec056-9c3d-4270-9d10-483643d98025",
   "metadata": {},
   "outputs": [
    {
     "name": "stdout",
     "output_type": "stream",
     "text": [
      "[-10.          -9.59183673  -9.18367347  -8.7755102   -8.36734694\n",
      "  -7.95918367  -7.55102041  -7.14285714  -6.73469388  -6.32653061\n",
      "  -5.91836735  -5.51020408  -5.10204082  -4.69387755  -4.28571429\n",
      "  -3.87755102  -3.46938776  -3.06122449  -2.65306122  -2.24489796\n",
      "  -1.83673469  -1.42857143  -1.02040816  -0.6122449   -0.20408163\n",
      "   0.20408163   0.6122449    1.02040816   1.42857143   1.83673469\n",
      "   2.24489796   2.65306122   3.06122449   3.46938776   3.87755102\n",
      "   4.28571429   4.69387755   5.10204082   5.51020408   5.91836735\n",
      "   6.32653061   6.73469388   7.14285714   7.55102041   7.95918367\n",
      "   8.36734694   8.7755102    9.18367347   9.59183673  10.        ]\n"
     ]
    }
   ],
   "source": [
    "arr = np.linspace(-10, 10, 50)\n",
    "print(arr)"
   ]
  },
  {
   "cell_type": "code",
   "execution_count": 14,
   "id": "e583b410-4a0d-4725-ac6d-5aa45954ffef",
   "metadata": {},
   "outputs": [
    {
     "data": {
      "text/plain": [
       "7.105427357601002e-15"
      ]
     },
     "execution_count": 14,
     "metadata": {},
     "output_type": "execute_result"
    }
   ],
   "source": [
    "np.sum(arr)"
   ]
  },
  {
   "cell_type": "code",
   "execution_count": 15,
   "id": "358112d6-e986-40cc-b2af-35a1827db7a8",
   "metadata": {},
   "outputs": [
    {
     "name": "stdout",
     "output_type": "stream",
     "text": [
      "127.55102040816328\n",
      "-127.55102040816327\n"
     ]
    }
   ],
   "source": [
    "print(np.sum(arr[arr>0]))\n",
    "print(np.sum(arr[arr<0]))"
   ]
  },
  {
   "cell_type": "markdown",
   "id": "e4a19783-f087-443c-85b9-62a4f2440e7e",
   "metadata": {},
   "source": [
    "##**Задание 5**. <br>Работа с диагональными и единичными матрицами"
   ]
  },
  {
   "cell_type": "code",
   "execution_count": 16,
   "id": "7106a821-7072-4f03-91d7-1a4572661cb2",
   "metadata": {},
   "outputs": [
    {
     "data": {
      "text/plain": [
       "array([[1., 0., 0., 0.],\n",
       "       [0., 1., 0., 0.],\n",
       "       [0., 0., 1., 0.],\n",
       "       [0., 0., 0., 1.]])"
      ]
     },
     "execution_count": 16,
     "metadata": {},
     "output_type": "execute_result"
    }
   ],
   "source": [
    "a=np.eye(4,4)\n",
    "a"
   ]
  },
  {
   "cell_type": "code",
   "execution_count": 17,
   "id": "a7febee1-d5c2-406b-9c61-d2459ccf2e52",
   "metadata": {},
   "outputs": [
    {
     "data": {
      "text/plain": [
       "array([[ 5,  0,  0,  0],\n",
       "       [ 0, 10,  0,  0],\n",
       "       [ 0,  0, 15,  0],\n",
       "       [ 0,  0,  0, 20]])"
      ]
     },
     "execution_count": 17,
     "metadata": {},
     "output_type": "execute_result"
    }
   ],
   "source": [
    "b=np.matrix('5 0 0 0;0 10 0 0; 0 0 15 0; 0 0 0 20')\n",
    "b=np.array(b)\n",
    "b"
   ]
  },
  {
   "cell_type": "code",
   "execution_count": 18,
   "id": "3c362259-a9ad-419d-87ac-54ae0bec6f3a",
   "metadata": {},
   "outputs": [
    {
     "name": "stdout",
     "output_type": "stream",
     "text": [
      "False True False\n"
     ]
    }
   ],
   "source": [
    "a_s=np.sum(a)\n",
    "b_s=np.sum(b)\n",
    "print(a_s>b_s,a_s<b_s,a_s==b_s)"
   ]
  },
  {
   "cell_type": "markdown",
   "id": "9b5ec802-1d21-46a3-881b-fa67fa5d2ccf",
   "metadata": {},
   "source": [
    "##**Задание 6**. <br>Создание и базовые операции с матрицами"
   ]
  },
  {
   "cell_type": "code",
   "execution_count": 19,
   "id": "61f07b56-a98c-44e1-b8fc-1cb015f03a2f",
   "metadata": {},
   "outputs": [],
   "source": [
    "a=np.random.randint(1,20,size=(3,3))\n",
    "b=np.random.randint(1,20,size=(3,3))"
   ]
  },
  {
   "cell_type": "code",
   "execution_count": 20,
   "id": "f83e1055-88e9-402c-9363-0517b52dfb18",
   "metadata": {},
   "outputs": [
    {
     "name": "stdout",
     "output_type": "stream",
     "text": [
      "[[16 16 16]\n",
      " [21 11 19]\n",
      " [ 3 31 10]] \n",
      "\n",
      " [[12 14 -2]\n",
      " [-1  7  5]\n",
      " [-1 -7  2]] \n",
      "\n",
      " [[ 28  15  63]\n",
      " [110  18  84]\n",
      " [  2 228  24]]\n"
     ]
    }
   ],
   "source": [
    "print((a+b),'\\n\\n',(a-b),'\\n\\n',(a*b))"
   ]
  },
  {
   "cell_type": "markdown",
   "id": "eec8333d-2443-48df-9d11-562821b1682d",
   "metadata": {},
   "source": [
    "##**Задание 7**. <br>Умножение матриц"
   ]
  },
  {
   "cell_type": "code",
   "execution_count": 21,
   "id": "9f4987b4-3e0f-440a-bccb-02282c1bcd7a",
   "metadata": {},
   "outputs": [
    {
     "name": "stdout",
     "output_type": "stream",
     "text": [
      "[[160 103]\n",
      " [120  89]]\n"
     ]
    }
   ],
   "source": [
    "a=np.random.randint(1,10,size=(2,3))\n",
    "b=np.random.randint(1,10,size=(3,2))\n",
    "print(np.dot(a,b))"
   ]
  },
  {
   "cell_type": "markdown",
   "id": "331a5ba2-0131-495e-9392-0c2c2edb2ed3",
   "metadata": {},
   "source": [
    "##**Задание 8**. <br>Определитель и обратная матрица"
   ]
  },
  {
   "cell_type": "code",
   "execution_count": 22,
   "id": "92f058e4-eecb-4bb4-a60b-dd66b52266bc",
   "metadata": {},
   "outputs": [],
   "source": [
    "a=np.random.randint(1,100,size=(3,3))"
   ]
  },
  {
   "cell_type": "code",
   "execution_count": 23,
   "id": "6b2ae42c-c351-4eb6-b37a-f6ad1ea2d184",
   "metadata": {},
   "outputs": [
    {
     "name": "stdout",
     "output_type": "stream",
     "text": [
      "11888.000000000004\n"
     ]
    }
   ],
   "source": [
    "print(np.linalg.det(a))"
   ]
  },
  {
   "cell_type": "code",
   "execution_count": 24,
   "id": "1f862c24-7d72-4fcd-91a9-3c0630d68bf6",
   "metadata": {},
   "outputs": [
    {
     "name": "stdout",
     "output_type": "stream",
     "text": [
      "[[ 0.00336474  0.01211306 -0.0031965 ]\n",
      " [-0.6833782  -0.16016151  0.42420929]\n",
      " [ 0.11709287  0.02153432 -0.06123822]]\n"
     ]
    }
   ],
   "source": [
    "if np.linalg.det(a):\n",
    "    print(np.linalg.inv(a))\n",
    "else:\n",
    "    print(\"Матрица не вырождена\")"
   ]
  },
  {
   "cell_type": "markdown",
   "id": "783851f5-ef06-494a-8e45-f8abe962554b",
   "metadata": {},
   "source": [
    "##**Задание 9**. <br>Транспонирование и след матрицы"
   ]
  },
  {
   "cell_type": "code",
   "execution_count": 25,
   "id": "4633a821-5f0c-4c1a-8ddc-15f759cc198e",
   "metadata": {},
   "outputs": [],
   "source": [
    "a=np.random.randint(1,50,size=(4,4))"
   ]
  },
  {
   "cell_type": "code",
   "execution_count": 27,
   "id": "e66e3046-ba1f-4a6b-8a93-f11d1c82a2d4",
   "metadata": {},
   "outputs": [
    {
     "name": "stdout",
     "output_type": "stream",
     "text": [
      "[[ 1 17 31 36]\n",
      " [35  5 28 14]\n",
      " [30 45 43 22]\n",
      " [13 42 18 46]]\n"
     ]
    }
   ],
   "source": [
    "print(a)"
   ]
  },
  {
   "cell_type": "code",
   "execution_count": 28,
   "id": "7a5a42ac-bb0f-44d9-b262-b88bd570dee5",
   "metadata": {},
   "outputs": [
    {
     "name": "stdout",
     "output_type": "stream",
     "text": [
      "[[ 1 35 30 13]\n",
      " [17  5 45 42]\n",
      " [31 28 43 18]\n",
      " [36 14 22 46]]\n"
     ]
    }
   ],
   "source": [
    "print(a.T)"
   ]
  },
  {
   "cell_type": "code",
   "execution_count": 29,
   "id": "72e97adc-ab5e-4b15-9a94-3ab9af0452a8",
   "metadata": {},
   "outputs": [
    {
     "name": "stdout",
     "output_type": "stream",
     "text": [
      "95\n"
     ]
    }
   ],
   "source": [
    "print(np.sum(np.diag(a)))"
   ]
  },
  {
   "cell_type": "markdown",
   "id": "668e6e5d-2c0a-4479-98b7-9687d7459038",
   "metadata": {},
   "source": [
    "##**Задание 10**. <br>Системы линейных уравнений"
   ]
  },
  {
   "cell_type": "code",
   "execution_count": 30,
   "id": "c9641557-8f1d-404b-9600-2c156e89bc79",
   "metadata": {},
   "outputs": [
    {
     "data": {
      "text/plain": [
       "array([[ 2,  3, -1],\n",
       "       [ 4, -1,  2],\n",
       "       [-3,  5,  4]])"
      ]
     },
     "execution_count": 30,
     "metadata": {},
     "output_type": "execute_result"
    }
   ],
   "source": [
    "A=np.matrix('2 3 -1;4 -1 2;-3 5 4')\n",
    "A=np.array(A)\n",
    "A"
   ]
  },
  {
   "cell_type": "code",
   "execution_count": 31,
   "id": "f06b89ec-6e42-4f65-9cbd-7ef70f087cad",
   "metadata": {},
   "outputs": [],
   "source": [
    "B = np.array([5, 6, -2])"
   ]
  },
  {
   "cell_type": "code",
   "execution_count": 32,
   "id": "2f7f91ce-9884-41b3-8019-c23537127d3b",
   "metadata": {},
   "outputs": [
    {
     "name": "stdout",
     "output_type": "stream",
     "text": [
      "[1.63963964 0.57657658 0.00900901]\n"
     ]
    }
   ],
   "source": [
    "sol = np.linalg.solve(A, B)\n",
    "print(sol)"
   ]
  },
  {
   "cell_type": "markdown",
   "id": "ae501beb-44fe-4f46-b300-1160b3f2e5ef",
   "metadata": {},
   "source": [
    "##**Задание 11**. <br>Индивидуальное задание. Продажа билетов"
   ]
  },
  {
   "cell_type": "code",
   "execution_count": 2,
   "id": "b4087ab9-e491-42d7-b972-67f08511927d",
   "metadata": {},
   "outputs": [
    {
     "name": "stdout",
     "output_type": "stream",
     "text": [
      "Решение методом np.linalg.solve:\n",
      "x = 300.0, y = 200, z = 0\n",
      "\n",
      "Решение методом Крамера:\n",
      "x = 300.0, y = 200, z = 0\n",
      "\n",
      "Решение матричным методом:\n",
      "x = 300, y = 200, z = 0.0\n"
     ]
    }
   ],
   "source": [
    "import numpy as np\n",
    "\n",
    "A = np.array([\n",
    "    [1, -1, 0],\n",
    "    [1, 1, 1],\n",
    "    [1, 1.5, 3]\n",
    "])\n",
    "B = np.array([100, 500, 600])\n",
    "\n",
    "# Решение с помощью numpy\n",
    "solution = np.linalg.solve(A, B)\n",
    "print(\"Решение методом np.linalg.solve:\")\n",
    "print(f\"x = {solution[0]}, y = {round(solution[1])}, z = {round(solution[2])}\")\n",
    "\n",
    "# Метод Крамера\n",
    "det_A = np.linalg.det(A)\n",
    "\n",
    "A_x = A.copy()\n",
    "A_x[:, 0] = B\n",
    "det_Ax = np.linalg.det(A_x)\n",
    "x = det_Ax / det_A\n",
    "\n",
    "A_y = A.copy()\n",
    "A_y[:, 1] = B\n",
    "det_Ay = np.linalg.det(A_y)\n",
    "y = det_Ay / det_A\n",
    "\n",
    "A_z = A.copy()\n",
    "A_z[:, 2] = B\n",
    "det_Az = np.linalg.det(A_z)\n",
    "z = det_Az / det_A\n",
    "\n",
    "print(\"\\nРешение методом Крамера:\")\n",
    "print(f\"x = {x}, y = {round(y)}, z = {round(z)}\")\n",
    "\n",
    "# Матричный метод\n",
    "A_inv = np.linalg.inv(A)\n",
    "solution_matrix = np.dot(A_inv, B)\n",
    "print(\"\\nРешение матричным методом:\")\n",
    "print(f\"x = {round(solution_matrix[0])}, y = {round(solution_matrix[1])}, z = {solution_matrix[2]}\")"
   ]
  },
  {
   "cell_type": "code",
   "execution_count": null,
   "id": "21954664-7fdd-43cd-a3eb-331ab7910a16",
   "metadata": {},
   "outputs": [],
   "source": []
  }
 ],
 "metadata": {
  "kernelspec": {
   "display_name": "Python 3 (ipykernel)",
   "language": "python",
   "name": "python3"
  },
  "language_info": {
   "codemirror_mode": {
    "name": "ipython",
    "version": 3
   },
   "file_extension": ".py",
   "mimetype": "text/x-python",
   "name": "python",
   "nbconvert_exporter": "python",
   "pygments_lexer": "ipython3",
   "version": "3.12.7"
  }
 },
 "nbformat": 4,
 "nbformat_minor": 5
}
